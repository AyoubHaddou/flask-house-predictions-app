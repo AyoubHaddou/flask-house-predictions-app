{
 "cells": [
  {
   "cell_type": "code",
   "execution_count": 21,
   "metadata": {},
   "outputs": [],
   "source": [
    "import pandas as pd\n"
   ]
  },
  {
   "cell_type": "markdown",
   "metadata": {},
   "source": [
    "# I Importation des données"
   ]
  },
  {
   "cell_type": "code",
   "execution_count": 22,
   "metadata": {},
   "outputs": [],
   "source": [
    "X_train = pd.read_csv(\"../data/X_train.csv\")\n",
    "y_train = pd.read_csv(\"../data/y_train.csv\")\n",
    "X_test = pd.read_csv(\"../data/X_test.csv\")\n",
    "y_test = pd.read_csv(\"../data/y_test.csv\")\n",
    "\n",
    "X_train = X_train.rename(columns={\"1st_Flr_SF\": \"Frst_Flr_SF\"})\n",
    "X_test = X_test.rename(columns={\"1st_Flr_SF\": \"Frst_Flr_SF\"})"
   ]
  },
  {
   "cell_type": "markdown",
   "metadata": {},
   "source": [
    "# Pipeline et modèle"
   ]
  },
  {
   "cell_type": "markdown",
   "metadata": {},
   "source": [
    "Il ne faut selectionner que 10 features, on supprime Neighborhood qui est trop complexe à traiter, ainsi que bsmt Qual et garage Finish qui sont trop proches d'autres variables"
   ]
  },
  {
   "cell_type": "markdown",
   "metadata": {},
   "source": [
    "## Transformation du data set"
   ]
  },
  {
   "cell_type": "code",
   "execution_count": 23,
   "metadata": {},
   "outputs": [],
   "source": [
    "numeric_features = [\"Year Built\", \"Total Bsmt SF\", \"1st Flr SF\", \"Gr Liv Area\", \"Garage Area\", \"Overall Qual\", \"Full Bath\"]\n",
    "ordinal_features = [ \"Exter Qual\",  \"Kitchen Qual\"]\n",
    "cat_feature = [\"Neighborhood\"]\n",
    "all_col = numeric_features.copy()\n",
    "all_col.extend(ordinal_features)\n",
    "all_col.extend(cat_feature)\n",
    "\n"
   ]
  },
  {
   "cell_type": "code",
   "execution_count": 24,
   "metadata": {},
   "outputs": [],
   "source": [
    "def transformation_X(X):\n",
    "       X = X[all_col]\n",
    "       X.columns = ['Year_Built', 'Total_Bsmt_SF', 'Frst_Flr_SF', 'Gr_Liv_Area','Garage_Area', 'Overall_Qual', 'Full_Bath', 'Exter_Qual',\n",
    "              'Kitchen_Qual', 'Neighborhood']\n",
    "       return X"
   ]
  },
  {
   "cell_type": "code",
   "execution_count": 25,
   "metadata": {},
   "outputs": [],
   "source": [
    "X_train = transformation_X(X_train)\n",
    "X_test = transformation_X(X_test)"
   ]
  },
  {
   "cell_type": "markdown",
   "metadata": {},
   "source": [
    "## Modèle"
   ]
  },
  {
   "cell_type": "code",
   "execution_count": 26,
   "metadata": {},
   "outputs": [],
   "source": [
    "from sklearn.pipeline import Pipeline\n",
    "from sklearn.preprocessing import OneHotEncoder\n",
    "from sklearn.impute import SimpleImputer\n",
    "\n",
    "from sklearn.preprocessing import OrdinalEncoder\n",
    "\n",
    "numeric_transformer = SimpleImputer()\n",
    "\n",
    "exter_cat = [ 'Po', 'Fa','TA', 'Gd','Ex']\n",
    "kitchen_cat = [ 'Po', 'Fa','TA', 'Gd',\"Ex\"]\n",
    "\n",
    "ordinal_transformer = OrdinalEncoder(categories=[exter_cat, kitchen_cat])\n",
    "\n",
    "categorical_transformer = OneHotEncoder()\n",
    "\n"
   ]
  },
  {
   "cell_type": "code",
   "execution_count": 27,
   "metadata": {},
   "outputs": [],
   "source": [
    "numeric_features = [\"Year_Built\", \"Total_Bsmt_SF\", \"Frst_Flr_SF\", \"Gr_Liv_Area\", \"Garage_Area\", \"Overall_Qual\", \"Full_Bath\"]\n",
    "ordinal_features = [ \"Exter_Qual\",  \"Kitchen_Qual\"]\n",
    "cat_feature = [\"Neighborhood\"]\n",
    "\n",
    "from sklearn.pipeline import Pipeline\n",
    "from sklearn.compose import ColumnTransformer\n",
    "\n",
    "preprocessor = ColumnTransformer(\n",
    "    transformers=[\n",
    "        ('num', numeric_transformer, numeric_features),\n",
    "        ('ord', ordinal_transformer, ordinal_features),\n",
    "        ('cat', categorical_transformer, cat_feature)\n",
    "    ]\n",
    ")"
   ]
  },
  {
   "cell_type": "code",
   "execution_count": 28,
   "metadata": {},
   "outputs": [],
   "source": [
    "from sklearn.linear_model import LinearRegression\n",
    "reg = LinearRegression()"
   ]
  },
  {
   "cell_type": "code",
   "execution_count": 29,
   "metadata": {},
   "outputs": [
    {
     "data": {
      "text/plain": [
       "Pipeline(steps=[('preprocessor',\n",
       "                 ColumnTransformer(transformers=[('num', SimpleImputer(),\n",
       "                                                  ['Year_Built',\n",
       "                                                   'Total_Bsmt_SF',\n",
       "                                                   'Frst_Flr_SF', 'Gr_Liv_Area',\n",
       "                                                   'Garage_Area',\n",
       "                                                   'Overall_Qual',\n",
       "                                                   'Full_Bath']),\n",
       "                                                 ('ord',\n",
       "                                                  OrdinalEncoder(categories=[['Po',\n",
       "                                                                              'Fa',\n",
       "                                                                              'TA',\n",
       "                                                                              'Gd',\n",
       "                                                                              'Ex'],\n",
       "                                                                             ['Po',\n",
       "                                                                              'Fa',\n",
       "                                                                              'TA',\n",
       "                                                                              'Gd',\n",
       "                                                                              'Ex']]),\n",
       "                                                  ['Exter_Qual',\n",
       "                                                   'Kitchen_Qual']),\n",
       "                                                 ('cat', OneHotEncoder(),\n",
       "                                                  ['Neighborhood'])])),\n",
       "                ('reg', LinearRegression())])"
      ]
     },
     "execution_count": 29,
     "metadata": {},
     "output_type": "execute_result"
    }
   ],
   "source": [
    "import numpy as np\n",
    "from sklearn.metrics import mean_absolute_error\n",
    "\n",
    "pipe = Pipeline([\n",
    "     ('preprocessor', preprocessor),\n",
    "     ('reg', reg)\n",
    "])\n",
    "\n",
    "\n",
    "pipe.fit(X_train, y_train) "
   ]
  },
  {
   "cell_type": "code",
   "execution_count": 30,
   "metadata": {},
   "outputs": [
    {
     "data": {
      "text/html": [
       "<div>\n",
       "<style scoped>\n",
       "    .dataframe tbody tr th:only-of-type {\n",
       "        vertical-align: middle;\n",
       "    }\n",
       "\n",
       "    .dataframe tbody tr th {\n",
       "        vertical-align: top;\n",
       "    }\n",
       "\n",
       "    .dataframe thead th {\n",
       "        text-align: right;\n",
       "    }\n",
       "</style>\n",
       "<table border=\"1\" class=\"dataframe\">\n",
       "  <thead>\n",
       "    <tr style=\"text-align: right;\">\n",
       "      <th></th>\n",
       "      <th>Year_Built</th>\n",
       "      <th>Total_Bsmt_SF</th>\n",
       "      <th>Frst_Flr_SF</th>\n",
       "      <th>Gr_Liv_Area</th>\n",
       "      <th>Garage_Area</th>\n",
       "      <th>Overall_Qual</th>\n",
       "      <th>Full_Bath</th>\n",
       "      <th>Exter_Qual</th>\n",
       "      <th>Kitchen_Qual</th>\n",
       "      <th>Neighborhood</th>\n",
       "    </tr>\n",
       "  </thead>\n",
       "  <tbody>\n",
       "    <tr>\n",
       "      <th>0</th>\n",
       "      <td>1925</td>\n",
       "      <td>588.0</td>\n",
       "      <td>833</td>\n",
       "      <td>1666</td>\n",
       "      <td>228.0</td>\n",
       "      <td>8</td>\n",
       "      <td>1</td>\n",
       "      <td>TA</td>\n",
       "      <td>Gd</td>\n",
       "      <td>OldTown</td>\n",
       "    </tr>\n",
       "    <tr>\n",
       "      <th>1</th>\n",
       "      <td>1972</td>\n",
       "      <td>494.0</td>\n",
       "      <td>494</td>\n",
       "      <td>1030</td>\n",
       "      <td>264.0</td>\n",
       "      <td>6</td>\n",
       "      <td>1</td>\n",
       "      <td>TA</td>\n",
       "      <td>TA</td>\n",
       "      <td>BrDale</td>\n",
       "    </tr>\n",
       "    <tr>\n",
       "      <th>2</th>\n",
       "      <td>2003</td>\n",
       "      <td>796.0</td>\n",
       "      <td>806</td>\n",
       "      <td>1724</td>\n",
       "      <td>616.0</td>\n",
       "      <td>7</td>\n",
       "      <td>2</td>\n",
       "      <td>Gd</td>\n",
       "      <td>Gd</td>\n",
       "      <td>Edwards</td>\n",
       "    </tr>\n",
       "    <tr>\n",
       "      <th>3</th>\n",
       "      <td>1994</td>\n",
       "      <td>990.0</td>\n",
       "      <td>990</td>\n",
       "      <td>990</td>\n",
       "      <td>0.0</td>\n",
       "      <td>4</td>\n",
       "      <td>1</td>\n",
       "      <td>TA</td>\n",
       "      <td>TA</td>\n",
       "      <td>CollgCr</td>\n",
       "    </tr>\n",
       "    <tr>\n",
       "      <th>4</th>\n",
       "      <td>1926</td>\n",
       "      <td>894.0</td>\n",
       "      <td>919</td>\n",
       "      <td>919</td>\n",
       "      <td>195.0</td>\n",
       "      <td>6</td>\n",
       "      <td>1</td>\n",
       "      <td>TA</td>\n",
       "      <td>TA</td>\n",
       "      <td>IDOTRR</td>\n",
       "    </tr>\n",
       "    <tr>\n",
       "      <th>...</th>\n",
       "      <td>...</td>\n",
       "      <td>...</td>\n",
       "      <td>...</td>\n",
       "      <td>...</td>\n",
       "      <td>...</td>\n",
       "      <td>...</td>\n",
       "      <td>...</td>\n",
       "      <td>...</td>\n",
       "      <td>...</td>\n",
       "      <td>...</td>\n",
       "    </tr>\n",
       "    <tr>\n",
       "      <th>581</th>\n",
       "      <td>2003</td>\n",
       "      <td>868.0</td>\n",
       "      <td>1146</td>\n",
       "      <td>1146</td>\n",
       "      <td>438.0</td>\n",
       "      <td>7</td>\n",
       "      <td>2</td>\n",
       "      <td>Gd</td>\n",
       "      <td>Gd</td>\n",
       "      <td>Timber</td>\n",
       "    </tr>\n",
       "    <tr>\n",
       "      <th>582</th>\n",
       "      <td>2004</td>\n",
       "      <td>2492.0</td>\n",
       "      <td>2492</td>\n",
       "      <td>2492</td>\n",
       "      <td>949.0</td>\n",
       "      <td>10</td>\n",
       "      <td>2</td>\n",
       "      <td>Ex</td>\n",
       "      <td>Ex</td>\n",
       "      <td>NridgHt</td>\n",
       "    </tr>\n",
       "    <tr>\n",
       "      <th>583</th>\n",
       "      <td>2003</td>\n",
       "      <td>1405.0</td>\n",
       "      <td>1405</td>\n",
       "      <td>1405</td>\n",
       "      <td>478.0</td>\n",
       "      <td>7</td>\n",
       "      <td>2</td>\n",
       "      <td>Gd</td>\n",
       "      <td>Gd</td>\n",
       "      <td>NridgHt</td>\n",
       "    </tr>\n",
       "    <tr>\n",
       "      <th>584</th>\n",
       "      <td>1967</td>\n",
       "      <td>936.0</td>\n",
       "      <td>936</td>\n",
       "      <td>936</td>\n",
       "      <td>384.0</td>\n",
       "      <td>5</td>\n",
       "      <td>1</td>\n",
       "      <td>TA</td>\n",
       "      <td>TA</td>\n",
       "      <td>Edwards</td>\n",
       "    </tr>\n",
       "    <tr>\n",
       "      <th>585</th>\n",
       "      <td>1965</td>\n",
       "      <td>1256.0</td>\n",
       "      <td>1256</td>\n",
       "      <td>1256</td>\n",
       "      <td>276.0</td>\n",
       "      <td>5</td>\n",
       "      <td>1</td>\n",
       "      <td>Gd</td>\n",
       "      <td>TA</td>\n",
       "      <td>Edwards</td>\n",
       "    </tr>\n",
       "  </tbody>\n",
       "</table>\n",
       "<p>586 rows × 10 columns</p>\n",
       "</div>"
      ],
      "text/plain": [
       "     Year_Built  Total_Bsmt_SF  Frst_Flr_SF  Gr_Liv_Area  Garage_Area  \\\n",
       "0          1925          588.0          833         1666        228.0   \n",
       "1          1972          494.0          494         1030        264.0   \n",
       "2          2003          796.0          806         1724        616.0   \n",
       "3          1994          990.0          990          990          0.0   \n",
       "4          1926          894.0          919          919        195.0   \n",
       "..          ...            ...          ...          ...          ...   \n",
       "581        2003          868.0         1146         1146        438.0   \n",
       "582        2004         2492.0         2492         2492        949.0   \n",
       "583        2003         1405.0         1405         1405        478.0   \n",
       "584        1967          936.0          936          936        384.0   \n",
       "585        1965         1256.0         1256         1256        276.0   \n",
       "\n",
       "     Overall_Qual  Full_Bath Exter_Qual Kitchen_Qual Neighborhood  \n",
       "0               8          1         TA           Gd      OldTown  \n",
       "1               6          1         TA           TA       BrDale  \n",
       "2               7          2         Gd           Gd      Edwards  \n",
       "3               4          1         TA           TA      CollgCr  \n",
       "4               6          1         TA           TA       IDOTRR  \n",
       "..            ...        ...        ...          ...          ...  \n",
       "581             7          2         Gd           Gd       Timber  \n",
       "582            10          2         Ex           Ex      NridgHt  \n",
       "583             7          2         Gd           Gd      NridgHt  \n",
       "584             5          1         TA           TA      Edwards  \n",
       "585             5          1         Gd           TA      Edwards  \n",
       "\n",
       "[586 rows x 10 columns]"
      ]
     },
     "execution_count": 30,
     "metadata": {},
     "output_type": "execute_result"
    }
   ],
   "source": [
    "X_test"
   ]
  },
  {
   "cell_type": "code",
   "execution_count": 31,
   "metadata": {},
   "outputs": [
    {
     "name": "stdout",
     "output_type": "stream",
     "text": [
      "MAE on train data:  20267.0928504425\n",
      "MAE on test data:  21270.49478541006\n"
     ]
    }
   ],
   "source": [
    "from sklearn.metrics import mean_absolute_error\n",
    "pipe.score(X_test,y_test)\n",
    "\n",
    "predict_train  = pipe.predict(X_train)\n",
    "predict_test  = pipe.predict(X_test)\n",
    "\n",
    "# Root Mean Squared Error on train and test date\n",
    "print('MAE on train data: ', mean_absolute_error(y_train, predict_train))\n",
    "print('MAE on test data: ',  mean_absolute_error(y_test, predict_test))\n",
    "\n"
   ]
  },
  {
   "cell_type": "markdown",
   "metadata": {},
   "source": [
    "pipe['reg'].get_feature_names_out"
   ]
  },
  {
   "cell_type": "code",
   "execution_count": 32,
   "metadata": {},
   "outputs": [],
   "source": [
    "# import pickle\n",
    "# filename = 'finalized_model.sav'\n",
    "# pickle.dump(search, open(filename, 'wb'))"
   ]
  },
  {
   "cell_type": "code",
   "execution_count": 33,
   "metadata": {},
   "outputs": [
    {
     "data": {
      "text/plain": [
       "['../fit/model.joblib']"
      ]
     },
     "execution_count": 33,
     "metadata": {},
     "output_type": "execute_result"
    }
   ],
   "source": [
    "from joblib import dump\n",
    "dump(pipe, \"../fit/model.joblib\")"
   ]
  },
  {
   "cell_type": "code",
   "execution_count": null,
   "metadata": {},
   "outputs": [],
   "source": []
  }
 ],
 "metadata": {
  "kernelspec": {
   "display_name": "fruits2",
   "language": "python",
   "name": "python3"
  },
  "language_info": {
   "codemirror_mode": {
    "name": "ipython",
    "version": 3
   },
   "file_extension": ".py",
   "mimetype": "text/x-python",
   "name": "python",
   "nbconvert_exporter": "python",
   "pygments_lexer": "ipython3",
   "version": "3.7.13 (default, Oct 18 2022, 18:57:03) \n[GCC 11.2.0]"
  },
  "orig_nbformat": 4,
  "vscode": {
   "interpreter": {
    "hash": "2f6e11b2b096c940ea7be530dff91c537406d1e76c1398771aa8ef90726f5d28"
   }
  }
 },
 "nbformat": 4,
 "nbformat_minor": 2
}
